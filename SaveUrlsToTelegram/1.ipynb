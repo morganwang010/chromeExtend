{
 "cells": [
  {
   "cell_type": "code",
   "execution_count": null,
   "metadata": {},
   "outputs": [
    {
     "name": "stdout",
     "output_type": "stream",
     "text": [
      "b'{\"errcode\":60020,\"errmsg\":\"not allow to access from your ip, hint: [1738814521347800972295403], from ip: 223.160.131.113, more info at https://open.work.weixin.qq.com/devtool/query?e=60020\"}'\n"
     ]
    }
   ],
   "source": [
    "import json,requests,base64\n",
    "def send_to_wecom(text,wecom_cid,wecom_aid,wecom_secret,wecom_touid='@all'):\n",
    "    get_token_url = \"https://qyapi.weixin.qq.com/cgi-bin/gettoken?corpid=%s&corpsecret=%s\" %(wecom_cid,wecom_secret)\n",
    "    response = requests.get(get_token_url).content\n",
    "    access_token = json.loads(response).get('access_token')\n",
    "    if access_token and len(access_token) > 0:\n",
    "        send_msg_url = f'https://qyapi.weixin.qq.com/cgi-bin/message/send?access_token={access_token}'\n",
    "        data = {\n",
    "            \"touser\":wecom_touid,\n",
    "            \"agentid\":wecom_aid,\n",
    "            \"msgtype\":\"text\",\n",
    "            \"text\":{\n",
    "                \"content\":text\n",
    "            },\n",
    "            \"duplicate_check_interval\":600\n",
    "        }\n",
    "        \n",
    "        response = requests.post(send_msg_url,data=json.dumps(data)).content\n",
    "        return response\n",
    "    else:\n",
    "        return False\n",
    "\n",
    "\n",
    "ret = send_to_wecom(\"推送测试\\r\\n测试换行\", \"wwb9415b6ec112b3ac\", \"1000003\", \"CI6P2-gXV403RVD7o_Eo5RaU8Yrg1iFb4L0dPOjJ520\")\n",
    "print( ret )"
   ]
  }
 ],
 "metadata": {
  "kernelspec": {
   "display_name": "Python 3",
   "language": "python",
   "name": "python3"
  },
  "language_info": {
   "codemirror_mode": {
    "name": "ipython",
    "version": 3
   },
   "file_extension": ".py",
   "mimetype": "text/x-python",
   "name": "python",
   "nbconvert_exporter": "python",
   "pygments_lexer": "ipython3",
   "version": "3.12.8"
  }
 },
 "nbformat": 4,
 "nbformat_minor": 2
}
